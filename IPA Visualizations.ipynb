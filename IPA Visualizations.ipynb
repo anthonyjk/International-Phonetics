{
 "cells": [
  {
   "cell_type": "markdown",
   "id": "83873fe0",
   "metadata": {},
   "source": [
    "# International Phonetic Alphabet - Consonants Visualization\n",
    "### Anthony Kosinski"
   ]
  },
  {
   "cell_type": "markdown",
   "id": "2e53e07d",
   "metadata": {},
   "source": [
    "This notebook takes consonant phonemes data scraped from Wikipedia and visualizes the data"
   ]
  },
  {
   "cell_type": "code",
   "execution_count": 1,
   "id": "9afc3065",
   "metadata": {},
   "outputs": [],
   "source": [
    "import pandas as pd\n",
    "import numpy as np\n",
    "import matplotlib.pyplot as plt\n",
    "import seaborn as sb"
   ]
  },
  {
   "cell_type": "markdown",
   "id": "c2b101c4",
   "metadata": {},
   "source": [
    "## Loading in the IPA Data"
   ]
  },
  {
   "cell_type": "code",
   "execution_count": 2,
   "id": "7daf1a26",
   "metadata": {},
   "outputs": [],
   "source": [
    "ipa_data = pd.read_csv('ipa_collection.csv')"
   ]
  },
  {
   "cell_type": "code",
   "execution_count": 3,
   "id": "281f42b6",
   "metadata": {
    "scrolled": true
   },
   "outputs": [
    {
     "name": "stdout",
     "output_type": "stream",
     "text": [
      "There are 126 languages in the dataset.\n"
     ]
    }
   ],
   "source": [
    "lang_count = len(ipa_data['Language'].unique())\n",
    "print(f\"There are {lang_count} languages in the dataset.\")"
   ]
  },
  {
   "cell_type": "markdown",
   "id": "a8b41eda",
   "metadata": {},
   "source": [
    "Looking for outliers"
   ]
  },
  {
   "cell_type": "code",
   "execution_count": 4,
   "id": "f967a2cf",
   "metadata": {
    "scrolled": true
   },
   "outputs": [
    {
     "name": "stdout",
     "output_type": "stream",
     "text": [
      "Astur-Leonese\n",
      "Nguni\n"
     ]
    }
   ],
   "source": [
    "for lang in ipa_data['Language'].unique():\n",
    "    cons_count = len(ipa_data[ipa_data['Language'] == lang])\n",
    "    if cons_count > 100:\n",
    "        print(lang)"
   ]
  },
  {
   "cell_type": "markdown",
   "id": "1dba6e97",
   "metadata": {},
   "source": [
    "Do these languages really have more than 100 different phonemes from consonants? Let's double check."
   ]
  },
  {
   "cell_type": "code",
   "execution_count": 5,
   "id": "3074294d",
   "metadata": {},
   "outputs": [
    {
     "name": "stdout",
     "output_type": "stream",
     "text": [
      "Name: Voiced bilabial plosive | Symbol: b\n",
      "Name: Voiced bilabial implosive | Symbol: ɓ\n",
      "Name: Voiced alveolar plosive | Symbol: d\n",
      "Name: Voiced postalveolar affricate | Symbol: dʒ\n",
      "Name: Voiced alveolar affricate | Symbol: dz\n",
      "Name: Voiceless labiodental fricative | Symbol: f\n",
      "Name: Voiced velar plosive | Symbol: ɡ\n",
      "Name: Voiced velar implosive | Symbol: ɠ\n",
      "Name: Voiceless glottal fricative | Symbol: h\n",
      "Name: Voiced glottal fricative | Symbol: ɦ\n",
      "Name: Voiced palatal approximant | Symbol: j\n",
      "Name: Voiceless velar plosive | Symbol: k\n",
      "Name: Voiced alveolar lateral approximant | Symbol: l\n",
      "Name: Voiceless alveolar lateral fricative | Symbol: ɬ\n",
      "Name: Voiced alveolar lateral fricative | Symbol: ɮ\n",
      "Name: Voiced bilabial nasal | Symbol: m\n",
      "Name: Voiced alveolar nasal | Symbol: n\n",
      "Name: Voiced velar nasal | Symbol: ŋ\n",
      "Name: Voiced palatal nasal | Symbol: ɲ\n",
      "Name: Voiceless bilabial plosive | Symbol: p\n",
      "Name: Voiced alveolar trill | Symbol: r\n",
      "Name: Voiceless alveolar fricative | Symbol: s\n",
      "Name: Voiceless postalveolar fricative | Symbol: ʃ\n",
      "Name: Voiceless alveolar plosive | Symbol: t\n",
      "Name: Voiceless alveolar affricate | Symbol: ts\n",
      "Name: Voiced labiodental fricative | Symbol: v\n",
      "Name: Voiced labial–velar approximant | Symbol: w\n",
      "Name: Voiceless velar fricative | Symbol: x\n",
      "Name: Voiced velar fricative | Symbol: ɣ\n",
      "Name: Voiced postalveolar fricative | Symbol: ʒ\n",
      "Name: Voiced alveolar fricative | Symbol: z\n",
      "Name: Glottal stop | Symbol: ʔ\n",
      "Name: Voiced dental click | Symbol: ᶢǀ\n",
      "Name: Voiced alveolar click | Symbol: ᶢǃ\n",
      "Name: Voiced bilabial plosive | Symbol: b\n",
      "Name: Voiced bilabial implosive | Symbol: ɓ\n",
      "Name: Voiced alveolar plosive | Symbol: d\n",
      "Name: Voiced postalveolar affricate | Symbol: dʒ\n",
      "Name: Voiced alveolar affricate | Symbol: dz\n",
      "Name: Voiceless labiodental fricative | Symbol: f\n",
      "Name: Voiced velar plosive | Symbol: ɡ\n",
      "Name: Voiced velar implosive | Symbol: ɠ\n",
      "Name: Voiceless glottal fricative | Symbol: h\n",
      "Name: Voiced glottal fricative | Symbol: ɦ\n",
      "Name: Voiced palatal approximant | Symbol: j\n",
      "Name: Voiceless velar plosive | Symbol: k\n",
      "Name: Voiced alveolar lateral approximant | Symbol: l\n",
      "Name: Voiceless alveolar lateral fricative | Symbol: ɬ\n",
      "Name: Voiced alveolar lateral fricative | Symbol: ɮ\n",
      "Name: Voiced bilabial nasal | Symbol: m\n",
      "Name: Voiced alveolar nasal | Symbol: n\n",
      "Name: Voiced velar nasal | Symbol: ŋ\n",
      "Name: Voiced palatal nasal | Symbol: ɲ\n",
      "Name: Voiceless bilabial plosive | Symbol: p\n",
      "Name: Voiced alveolar trill | Symbol: r\n",
      "Name: Voiceless alveolar fricative | Symbol: s\n",
      "Name: Voiceless postalveolar fricative | Symbol: ʃ\n",
      "Name: Voiceless alveolar plosive | Symbol: t\n",
      "Name: Voiceless alveolar affricate | Symbol: ts\n",
      "Name: Voiced labiodental fricative | Symbol: v\n",
      "Name: Voiced labial–velar approximant | Symbol: w\n",
      "Name: Voiceless velar fricative | Symbol: x\n",
      "Name: Voiced velar fricative | Symbol: ɣ\n",
      "Name: Voiced postalveolar fricative | Symbol: ʒ\n",
      "Name: Voiced alveolar fricative | Symbol: z\n",
      "Name: Glottal stop | Symbol: ʔ\n",
      "Name: Voiced dental click | Symbol: ᶢǀ\n",
      "Name: Voiced alveolar click | Symbol: ᶢǃ\n",
      "Name: Voiced bilabial plosive | Symbol: b\n",
      "Name: Voiced bilabial implosive | Symbol: ɓ\n",
      "Name: Voiced alveolar plosive | Symbol: d\n",
      "Name: Voiced postalveolar affricate | Symbol: dʒ\n",
      "Name: Voiced alveolar affricate | Symbol: dz\n",
      "Name: Voiceless labiodental fricative | Symbol: f\n",
      "Name: Voiced velar plosive | Symbol: ɡ\n",
      "Name: Voiced velar implosive | Symbol: ɠ\n",
      "Name: Voiceless glottal fricative | Symbol: h\n",
      "Name: Voiced glottal fricative | Symbol: ɦ\n",
      "Name: Voiced palatal approximant | Symbol: j\n",
      "Name: Voiceless velar plosive | Symbol: k\n",
      "Name: Voiced alveolar lateral approximant | Symbol: l\n",
      "Name: Voiceless alveolar lateral fricative | Symbol: ɬ\n",
      "Name: Voiced alveolar lateral fricative | Symbol: ɮ\n",
      "Name: Voiced bilabial nasal | Symbol: m\n",
      "Name: Voiced alveolar nasal | Symbol: n\n",
      "Name: Voiced velar nasal | Symbol: ŋ\n",
      "Name: Voiced palatal nasal | Symbol: ɲ\n",
      "Name: Voiceless bilabial plosive | Symbol: p\n",
      "Name: Voiced alveolar trill | Symbol: r\n",
      "Name: Voiceless alveolar fricative | Symbol: s\n",
      "Name: Voiceless postalveolar fricative | Symbol: ʃ\n",
      "Name: Voiceless alveolar plosive | Symbol: t\n",
      "Name: Voiceless alveolar affricate | Symbol: ts\n",
      "Name: Voiced labiodental fricative | Symbol: v\n",
      "Name: Voiced labial–velar approximant | Symbol: w\n",
      "Name: Voiceless velar fricative | Symbol: x\n",
      "Name: Voiced velar fricative | Symbol: ɣ\n",
      "Name: Voiced postalveolar fricative | Symbol: ʒ\n",
      "Name: Voiced alveolar fricative | Symbol: z\n",
      "Name: Glottal stop | Symbol: ʔ\n",
      "Name: Voiced dental click | Symbol: ᶢǀ\n",
      "Name: Voiced alveolar click | Symbol: ᶢǃ\n"
     ]
    }
   ],
   "source": [
    "nguni_data = ipa_data[ipa_data['Language'] == 'Nguni']\n",
    "nguni_ipa_names = []\n",
    "for i in range(len(nguni_data)):\n",
    "    print(f\"Name: {nguni_data['Name'].iloc[i]} | Symbol: {nguni_data['Symbol'].iloc[i]}\")\n",
    "    nguni_ipa_names.append(nguni_data['Name'].iloc[i])"
   ]
  },
  {
   "cell_type": "code",
   "execution_count": 6,
   "id": "dd8fd197",
   "metadata": {},
   "outputs": [
    {
     "name": "stdout",
     "output_type": "stream",
     "text": [
      "102\n",
      "34\n"
     ]
    }
   ],
   "source": [
    "nguni_ipa_names = np.array(nguni_ipa_names)\n",
    "\n",
    "print(len(nguni_ipa_names)) # Nguni Phonemes in ipa_data\n",
    "print(len(np.unique(nguni_ipa_names))) # Unique Phonemes in Nguni"
   ]
  },
  {
   "cell_type": "markdown",
   "id": "a54ba6a9",
   "metadata": {},
   "source": [
    "It appears that Nguni has duplicate phonemes in the data, but how many languages have this issue?"
   ]
  },
  {
   "cell_type": "code",
   "execution_count": 7,
   "id": "87361491",
   "metadata": {},
   "outputs": [
    {
     "name": "stdout",
     "output_type": "stream",
     "text": [
      "There are 35 languages with duplicate phoneme data in ipa_data\n"
     ]
    }
   ],
   "source": [
    "dup_count = 0\n",
    "for lang in ipa_data['Language'].unique():\n",
    "    lang_ph = ipa_data[ipa_data['Language'] == lang]['Name']\n",
    "    if len(lang_ph) != len(np.unique(lang_ph)):\n",
    "        dup_count += 1\n",
    "\n",
    "print(f\"There are {dup_count} languages with duplicate phoneme data in ipa_data\")"
   ]
  },
  {
   "cell_type": "markdown",
   "id": "7f59b2c4",
   "metadata": {},
   "source": [
    "As suspected, there appears to be repeats in the data, in which case the data should be run through once more and cleaned of any repeating phonemes in the same language."
   ]
  },
  {
   "cell_type": "markdown",
   "id": "c3a7437c",
   "metadata": {},
   "source": [
    "## Removing duplicates"
   ]
  },
  {
   "cell_type": "code",
   "execution_count": 9,
   "id": "d1b2a3d6",
   "metadata": {},
   "outputs": [
    {
     "data": {
      "text/html": [
       "<div>\n",
       "<style scoped>\n",
       "    .dataframe tbody tr th:only-of-type {\n",
       "        vertical-align: middle;\n",
       "    }\n",
       "\n",
       "    .dataframe tbody tr th {\n",
       "        vertical-align: top;\n",
       "    }\n",
       "\n",
       "    .dataframe thead th {\n",
       "        text-align: right;\n",
       "    }\n",
       "</style>\n",
       "<table border=\"1\" class=\"dataframe\">\n",
       "  <thead>\n",
       "    <tr style=\"text-align: right;\">\n",
       "      <th></th>\n",
       "      <th>Language</th>\n",
       "      <th>Name</th>\n",
       "      <th>Symbol</th>\n",
       "    </tr>\n",
       "  </thead>\n",
       "  <tbody>\n",
       "    <tr>\n",
       "      <th>0</th>\n",
       "      <td>Standard_German</td>\n",
       "      <td>Glottal stop</td>\n",
       "      <td>ʔ</td>\n",
       "    </tr>\n",
       "    <tr>\n",
       "      <th>1</th>\n",
       "      <td>Standard_German</td>\n",
       "      <td>Voiced alveolar approximant</td>\n",
       "      <td>ɹ</td>\n",
       "    </tr>\n",
       "    <tr>\n",
       "      <th>2</th>\n",
       "      <td>Standard_German</td>\n",
       "      <td>Voiced alveolar fricative</td>\n",
       "      <td>z</td>\n",
       "    </tr>\n",
       "    <tr>\n",
       "      <th>3</th>\n",
       "      <td>Standard_German</td>\n",
       "      <td>Voiced alveolar lateral approximant</td>\n",
       "      <td>l</td>\n",
       "    </tr>\n",
       "    <tr>\n",
       "      <th>4</th>\n",
       "      <td>Standard_German</td>\n",
       "      <td>Voiced alveolar nasal</td>\n",
       "      <td>n</td>\n",
       "    </tr>\n",
       "    <tr>\n",
       "      <th>...</th>\n",
       "      <td>...</td>\n",
       "      <td>...</td>\n",
       "      <td>...</td>\n",
       "    </tr>\n",
       "    <tr>\n",
       "      <th>3093</th>\n",
       "      <td>Zhuang</td>\n",
       "      <td>Voiceless bilabial plosive</td>\n",
       "      <td>p</td>\n",
       "    </tr>\n",
       "    <tr>\n",
       "      <th>3094</th>\n",
       "      <td>Zhuang</td>\n",
       "      <td>Voiceless dental fricative</td>\n",
       "      <td>θ</td>\n",
       "    </tr>\n",
       "    <tr>\n",
       "      <th>3095</th>\n",
       "      <td>Zhuang</td>\n",
       "      <td>Voiceless glottal fricative</td>\n",
       "      <td>h</td>\n",
       "    </tr>\n",
       "    <tr>\n",
       "      <th>3096</th>\n",
       "      <td>Zhuang</td>\n",
       "      <td>Voiceless labiodental fricative</td>\n",
       "      <td>f</td>\n",
       "    </tr>\n",
       "    <tr>\n",
       "      <th>3097</th>\n",
       "      <td>Zhuang</td>\n",
       "      <td>Voiceless velar plosive</td>\n",
       "      <td>k</td>\n",
       "    </tr>\n",
       "  </tbody>\n",
       "</table>\n",
       "<p>3098 rows × 3 columns</p>\n",
       "</div>"
      ],
      "text/plain": [
       "             Language                                 Name Symbol\n",
       "0     Standard_German                         Glottal stop      ʔ\n",
       "1     Standard_German          Voiced alveolar approximant      ɹ\n",
       "2     Standard_German            Voiced alveolar fricative      z\n",
       "3     Standard_German  Voiced alveolar lateral approximant      l\n",
       "4     Standard_German                Voiced alveolar nasal      n\n",
       "...               ...                                  ...    ...\n",
       "3093           Zhuang           Voiceless bilabial plosive      p\n",
       "3094           Zhuang           Voiceless dental fricative      θ\n",
       "3095           Zhuang          Voiceless glottal fricative      h\n",
       "3096           Zhuang      Voiceless labiodental fricative      f\n",
       "3097           Zhuang              Voiceless velar plosive      k\n",
       "\n",
       "[3098 rows x 3 columns]"
      ]
     },
     "execution_count": 9,
     "metadata": {},
     "output_type": "execute_result"
    }
   ],
   "source": [
    "# Setting up new IPA DataFrame with Language, Name, and Symbol columns\n",
    "new_ipa_data = pd.DataFrame([])\n",
    "new_ipa_data.insert(0, \"Language\", [])\n",
    "new_ipa_data.insert(1, \"Name\", [])\n",
    "new_ipa_data.insert(2, \"Symbol\", [])\n",
    "\n",
    "# Creating Phoneme Name : Symbol dictionary to make inserting phonemes to new dataframe easier\n",
    "phoneme_dict = {}\n",
    "ipa_dd = ipa_data.drop_duplicates(subset=['Name'])\n",
    "for i in range(len(ipa_dd['Name'])):\n",
    "    phoneme_dict[ipa_dd['Name'].iloc[i]] = ipa_dd['Symbol'].iloc[i]\n",
    "\n",
    "# Appending non-duplicated phonemes for each language to new IPA dataframe\n",
    "dex = 0\n",
    "for lang in ipa_data['Language'].unique():\n",
    "    for ph in np.unique(ipa_data[ipa_data['Language'] == lang]['Name']):\n",
    "        new_ipa_data.loc[dex] = [lang, ph, phoneme_dict[ph]]\n",
    "        dex += 1\n",
    "new_ipa_data"
   ]
  },
  {
   "cell_type": "markdown",
   "id": "1ef933de",
   "metadata": {},
   "source": [
    "Let's check our new dataframe to make sure it doesn't have the same duplication issues as before."
   ]
  },
  {
   "cell_type": "code",
   "execution_count": 10,
   "id": "22a23d6e",
   "metadata": {},
   "outputs": [
    {
     "name": "stdout",
     "output_type": "stream",
     "text": [
      "There are 0 languages with duplicate phoneme data in new_ipa_data\n"
     ]
    }
   ],
   "source": [
    "dup_count = 0\n",
    "for lang in new_ipa_data['Language'].unique():\n",
    "    lang_ph = new_ipa_data[new_ipa_data['Language'] == lang]['Name']\n",
    "    if len(lang_ph) != len(np.unique(lang_ph)):\n",
    "        dup_count += 1\n",
    "\n",
    "print(f\"There are {dup_count} languages with duplicate phoneme data in new_ipa_data\")"
   ]
  },
  {
   "cell_type": "markdown",
   "id": "16b38c07",
   "metadata": {},
   "source": [
    "Success! We've removed the duplicate phoneme data from the IPA data."
   ]
  },
  {
   "cell_type": "markdown",
   "id": "d5af6d71",
   "metadata": {},
   "source": [
    "//todo: start plotting"
   ]
  },
  {
   "cell_type": "code",
   "execution_count": 12,
   "id": "9276d90e",
   "metadata": {},
   "outputs": [
    {
     "data": {
      "text/html": [
       "<div>\n",
       "<style scoped>\n",
       "    .dataframe tbody tr th:only-of-type {\n",
       "        vertical-align: middle;\n",
       "    }\n",
       "\n",
       "    .dataframe tbody tr th {\n",
       "        vertical-align: top;\n",
       "    }\n",
       "\n",
       "    .dataframe thead th {\n",
       "        text-align: right;\n",
       "    }\n",
       "</style>\n",
       "<table border=\"1\" class=\"dataframe\">\n",
       "  <thead>\n",
       "    <tr style=\"text-align: right;\">\n",
       "      <th></th>\n",
       "      <th>Language</th>\n",
       "      <th>Phonemes</th>\n",
       "    </tr>\n",
       "  </thead>\n",
       "  <tbody>\n",
       "    <tr>\n",
       "      <th>12</th>\n",
       "      <td>Astur-Leonese</td>\n",
       "      <td>41</td>\n",
       "    </tr>\n",
       "    <tr>\n",
       "      <th>105</th>\n",
       "      <td>Sorbian</td>\n",
       "      <td>37</td>\n",
       "    </tr>\n",
       "    <tr>\n",
       "      <th>2</th>\n",
       "      <td>Adyghe</td>\n",
       "      <td>34</td>\n",
       "    </tr>\n",
       "    <tr>\n",
       "      <th>108</th>\n",
       "      <td>Nguni</td>\n",
       "      <td>34</td>\n",
       "    </tr>\n",
       "    <tr>\n",
       "      <th>22</th>\n",
       "      <td>Insular_Catalan</td>\n",
       "      <td>34</td>\n",
       "    </tr>\n",
       "    <tr>\n",
       "      <th>...</th>\n",
       "      <td>...</td>\n",
       "      <td>...</td>\n",
       "    </tr>\n",
       "    <tr>\n",
       "      <th>81</th>\n",
       "      <td>Mongolian</td>\n",
       "      <td>14</td>\n",
       "    </tr>\n",
       "    <tr>\n",
       "      <th>24</th>\n",
       "      <td>Cantonese</td>\n",
       "      <td>13</td>\n",
       "    </tr>\n",
       "    <tr>\n",
       "      <th>46</th>\n",
       "      <td>Hawaiian</td>\n",
       "      <td>11</td>\n",
       "    </tr>\n",
       "    <tr>\n",
       "      <th>77</th>\n",
       "      <td>M%C4%81ori</td>\n",
       "      <td>10</td>\n",
       "    </tr>\n",
       "    <tr>\n",
       "      <th>47</th>\n",
       "      <td>Hebrew</td>\n",
       "      <td>3</td>\n",
       "    </tr>\n",
       "  </tbody>\n",
       "</table>\n",
       "<p>126 rows × 2 columns</p>\n",
       "</div>"
      ],
      "text/plain": [
       "            Language  Phonemes\n",
       "12     Astur-Leonese        41\n",
       "105          Sorbian        37\n",
       "2             Adyghe        34\n",
       "108            Nguni        34\n",
       "22   Insular_Catalan        34\n",
       "..               ...       ...\n",
       "81         Mongolian        14\n",
       "24         Cantonese        13\n",
       "46          Hawaiian        11\n",
       "77        M%C4%81ori        10\n",
       "47            Hebrew         3\n",
       "\n",
       "[126 rows x 2 columns]"
      ]
     },
     "execution_count": 12,
     "metadata": {},
     "output_type": "execute_result"
    }
   ],
   "source": [
    "lang_count_data = pd.DataFrame([])\n",
    "#ipa_data.sort_values('Language')\n",
    "lang_count_data.insert(0, \"Language\", [])\n",
    "lang_count_data.insert(1, \"Phonemes\", [])\n",
    "\n",
    "dex = 0\n",
    "for lang in new_ipa_data['Language'].unique():\n",
    "    dex += 1\n",
    "    cons_count = len(new_ipa_data[new_ipa_data['Language'] == lang])\n",
    "    lang_count_data.loc[dex] = [lang, cons_count]\n",
    "        \n",
    "lang_count_data = lang_count_data.sort_values('Phonemes', ascending=False)\n",
    "\n",
    "lang_count_data"
   ]
  },
  {
   "cell_type": "code",
   "execution_count": null,
   "id": "f0c40882",
   "metadata": {},
   "outputs": [],
   "source": []
  }
 ],
 "metadata": {
  "kernelspec": {
   "display_name": "Python 3 (ipykernel)",
   "language": "python",
   "name": "python3"
  },
  "language_info": {
   "codemirror_mode": {
    "name": "ipython",
    "version": 3
   },
   "file_extension": ".py",
   "mimetype": "text/x-python",
   "name": "python",
   "nbconvert_exporter": "python",
   "pygments_lexer": "ipython3",
   "version": "3.11.5"
  }
 },
 "nbformat": 4,
 "nbformat_minor": 5
}
